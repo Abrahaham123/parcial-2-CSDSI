{
 "cells": [
  {
   "cell_type": "code",
   "execution_count": 18,
   "id": "7ef7c9c7-3498-4138-85e6-80b4d54f1eb9",
   "metadata": {},
   "outputs": [
    {
     "ename": "IndentationError",
     "evalue": "unexpected indent (1278799345.py, line 8)",
     "output_type": "error",
     "traceback": [
      "\u001b[1;36m  Cell \u001b[1;32mIn[18], line 8\u001b[1;36m\u001b[0m\n\u001b[1;33m    self.nombre = nombre\u001b[0m\n\u001b[1;37m    ^\u001b[0m\n\u001b[1;31mIndentationError\u001b[0m\u001b[1;31m:\u001b[0m unexpected indent\n"
     ]
    }
   ],
   "source": [
    "class Artista:\n",
    "    # Atributo de artista\n",
    "    escenario = 'gente'\n",
    "    \n",
    "    def _init_(self, nombre, grupo):\n",
    "       print(f\"creando grupo musical {nombre}, {grupo}\")\n",
    "    \n",
    "         self.nombre = nombre\n",
    "         self.grupo = grupo\n",
    "    \n",
    "un_artista = Artista(\"David kusher\",\"NIN\")\n",
    "    "
   ]
  },
  {
   "cell_type": "code",
   "execution_count": null,
   "id": "d01da440-cfc7-42ff-85d8-3dc1f8abf0ee",
   "metadata": {},
   "outputs": [],
   "source": []
  }
 ],
 "metadata": {
  "kernelspec": {
   "display_name": "Python [conda env:base] *",
   "language": "python",
   "name": "conda-base-py"
  },
  "language_info": {
   "codemirror_mode": {
    "name": "ipython",
    "version": 3
   },
   "file_extension": ".py",
   "mimetype": "text/x-python",
   "name": "python",
   "nbconvert_exporter": "python",
   "pygments_lexer": "ipython3",
   "version": "3.12.7"
  }
 },
 "nbformat": 4,
 "nbformat_minor": 5
}
